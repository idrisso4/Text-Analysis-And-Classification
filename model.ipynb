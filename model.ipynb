{
  "nbformat": 4,
  "nbformat_minor": 0,
  "metadata": {
    "colab": {
      "name": "Text Analysis & Classification.ipynb",
      "provenance": [],
      "collapsed_sections": []
    },
    "kernelspec": {
      "display_name": "tf",
      "language": "python",
      "name": "tf"
    },
    "language_info": {
      "codemirror_mode": {
        "name": "ipython",
        "version": 3
      },
      "file_extension": ".py",
      "mimetype": "text/x-python",
      "name": "python",
      "nbconvert_exporter": "python",
      "pygments_lexer": "ipython3",
      "version": "3.8.3"
    }
  },
  "cells": [
    {
      "cell_type": "markdown",
      "metadata": {
        "id": "u-A7sDhbrQ1a"
      },
      "source": [
        "# **I- Category Detection:**"
      ]
    },
    {
      "cell_type": "markdown",
      "metadata": {
        "id": "91_GBpZLO5jp"
      },
      "source": [
        "# 1) Importing data from Kaggle"
      ]
    },
    {
      "cell_type": "code",
      "metadata": {
        "id": "9QAQpxwBlA4S"
      },
      "source": [
        "! pip install kaggle"
      ],
      "execution_count": null,
      "outputs": []
    },
    {
      "cell_type": "code",
      "metadata": {
        "id": "j9ntURzBlIhO"
      },
      "source": [
        "from google.colab import files\r\n",
        "\r\n",
        "files.upload()"
      ],
      "execution_count": null,
      "outputs": []
    },
    {
      "cell_type": "code",
      "metadata": {
        "id": "jDcxjnTKlawI"
      },
      "source": [
        "! mkdir ~/.kaggle\r\n",
        "! cp kaggle.json ~/.kaggle/\r\n",
        "! chmod 600 ~/.kaggle/kaggle.json\r\n",
        "! kaggle datasets download -d rmisra/news-category-dataset\r\n",
        "!unzip news-category-dataset.zip"
      ],
      "execution_count": null,
      "outputs": []
    },
    {
      "cell_type": "markdown",
      "metadata": {
        "id": "eoC8xmjkksQJ"
      },
      "source": [
        "# 2) Data Understanding:"
      ]
    },
    {
      "cell_type": "code",
      "metadata": {
        "id": "rjSpcy2XO5jv"
      },
      "source": [
        "# Importing Libraries\n",
        "\n",
        "!pip install bert-for-tf2\n",
        "!pip install transformers\n",
        "import pandas as pd\n",
        "import pickle\n",
        "import random\n",
        "import gzip\n",
        "import gensim \n",
        "import logging\n",
        "import tensorflow as tf\n",
        "import tensorflow_hub as hub\n",
        "from tensorflow.keras import layers\n",
        "from tensorflow import keras\n",
        "import bert\n",
        "import math\n",
        "import re as re\n",
        "import transformers\n",
        "import numpy as np\n",
        "import sklearn\n",
        "from sklearn.metrics import confusion_matrix\n",
        "import seaborn as sns\n",
        "import matplotlib.pyplot as plt"
      ],
      "execution_count": null,
      "outputs": []
    },
    {
      "cell_type": "code",
      "metadata": {
        "colab": {
          "base_uri": "https://localhost:8080/",
          "height": 289
        },
        "id": "Ba4bHWtnO5jw",
        "outputId": "584e18e0-b6c6-4216-9073-8cacdd8c6012"
      },
      "source": [
        "# Reading dataset\n",
        "\n",
        "all_data = pd.read_json('News_Category_Dataset_v2.json', lines = True)\n",
        "all_data.head()"
      ],
      "execution_count": 5,
      "outputs": [
        {
          "output_type": "execute_result",
          "data": {
            "text/html": [
              "<div>\n",
              "<style scoped>\n",
              "    .dataframe tbody tr th:only-of-type {\n",
              "        vertical-align: middle;\n",
              "    }\n",
              "\n",
              "    .dataframe tbody tr th {\n",
              "        vertical-align: top;\n",
              "    }\n",
              "\n",
              "    .dataframe thead th {\n",
              "        text-align: right;\n",
              "    }\n",
              "</style>\n",
              "<table border=\"1\" class=\"dataframe\">\n",
              "  <thead>\n",
              "    <tr style=\"text-align: right;\">\n",
              "      <th></th>\n",
              "      <th>category</th>\n",
              "      <th>headline</th>\n",
              "      <th>authors</th>\n",
              "      <th>link</th>\n",
              "      <th>short_description</th>\n",
              "      <th>date</th>\n",
              "    </tr>\n",
              "  </thead>\n",
              "  <tbody>\n",
              "    <tr>\n",
              "      <th>0</th>\n",
              "      <td>CRIME</td>\n",
              "      <td>There Were 2 Mass Shootings In Texas Last Week...</td>\n",
              "      <td>Melissa Jeltsen</td>\n",
              "      <td>https://www.huffingtonpost.com/entry/texas-ama...</td>\n",
              "      <td>She left her husband. He killed their children...</td>\n",
              "      <td>2018-05-26</td>\n",
              "    </tr>\n",
              "    <tr>\n",
              "      <th>1</th>\n",
              "      <td>ENTERTAINMENT</td>\n",
              "      <td>Will Smith Joins Diplo And Nicky Jam For The 2...</td>\n",
              "      <td>Andy McDonald</td>\n",
              "      <td>https://www.huffingtonpost.com/entry/will-smit...</td>\n",
              "      <td>Of course it has a song.</td>\n",
              "      <td>2018-05-26</td>\n",
              "    </tr>\n",
              "    <tr>\n",
              "      <th>2</th>\n",
              "      <td>ENTERTAINMENT</td>\n",
              "      <td>Hugh Grant Marries For The First Time At Age 57</td>\n",
              "      <td>Ron Dicker</td>\n",
              "      <td>https://www.huffingtonpost.com/entry/hugh-gran...</td>\n",
              "      <td>The actor and his longtime girlfriend Anna Ebe...</td>\n",
              "      <td>2018-05-26</td>\n",
              "    </tr>\n",
              "    <tr>\n",
              "      <th>3</th>\n",
              "      <td>ENTERTAINMENT</td>\n",
              "      <td>Jim Carrey Blasts 'Castrato' Adam Schiff And D...</td>\n",
              "      <td>Ron Dicker</td>\n",
              "      <td>https://www.huffingtonpost.com/entry/jim-carre...</td>\n",
              "      <td>The actor gives Dems an ass-kicking for not fi...</td>\n",
              "      <td>2018-05-26</td>\n",
              "    </tr>\n",
              "    <tr>\n",
              "      <th>4</th>\n",
              "      <td>ENTERTAINMENT</td>\n",
              "      <td>Julianna Margulies Uses Donald Trump Poop Bags...</td>\n",
              "      <td>Ron Dicker</td>\n",
              "      <td>https://www.huffingtonpost.com/entry/julianna-...</td>\n",
              "      <td>The \"Dietland\" actress said using the bags is ...</td>\n",
              "      <td>2018-05-26</td>\n",
              "    </tr>\n",
              "  </tbody>\n",
              "</table>\n",
              "</div>"
            ],
            "text/plain": [
              "        category  ...       date\n",
              "0          CRIME  ... 2018-05-26\n",
              "1  ENTERTAINMENT  ... 2018-05-26\n",
              "2  ENTERTAINMENT  ... 2018-05-26\n",
              "3  ENTERTAINMENT  ... 2018-05-26\n",
              "4  ENTERTAINMENT  ... 2018-05-26\n",
              "\n",
              "[5 rows x 6 columns]"
            ]
          },
          "metadata": {
            "tags": []
          },
          "execution_count": 5
        }
      ]
    },
    {
      "cell_type": "code",
      "metadata": {
        "colab": {
          "base_uri": "https://localhost:8080/"
        },
        "id": "8sKCNRyOne0z",
        "outputId": "5e313c53-6e62-4459-831b-dfaccf53b0cc"
      },
      "source": [
        "print(set(all_data['category']))\r\n",
        "print('Number of categories: ',len(set(all_data['category'])))"
      ],
      "execution_count": 6,
      "outputs": [
        {
          "output_type": "stream",
          "text": [
            "{'ARTS & CULTURE', 'QUEER VOICES', 'DIVORCE', 'MEDIA', 'FIFTY', 'ENTERTAINMENT', 'FOOD & DRINK', 'WOMEN', 'CRIME', 'MONEY', 'PARENTING', 'TECH', 'POLITICS', 'ARTS', 'WORLD NEWS', 'RELIGION', 'BUSINESS', 'COMEDY', 'WORLDPOST', 'STYLE', 'SCIENCE', 'TASTE', 'ENVIRONMENT', 'STYLE & BEAUTY', 'COLLEGE', 'LATINO VOICES', 'SPORTS', 'WEDDINGS', 'BLACK VOICES', 'WEIRD NEWS', 'PARENTS', 'TRAVEL', 'GREEN', 'WELLNESS', 'EDUCATION', 'GOOD NEWS', 'CULTURE & ARTS', 'THE WORLDPOST', 'HOME & LIVING', 'HEALTHY LIVING', 'IMPACT'}\n",
            "Number of categories:  41\n"
          ],
          "name": "stdout"
        }
      ]
    },
    {
      "cell_type": "code",
      "metadata": {
        "id": "l2cid3sQ6a2-"
      },
      "source": [
        "# I choosed 6 categories from 41 in the above dataset\r\n",
        "data = all_data[(all_data['category']=='CRIME') | (all_data['category']=='POLITICS') | (all_data['category']=='SPORTS') | (all_data['category']=='BUSINESS') | (all_data['category']=='SCIENCE') | (all_data['category']=='TECH')].copy()\r\n",
        "data.index = [i for i in range(data.shape[0])]"
      ],
      "execution_count": 7,
      "outputs": []
    },
    {
      "cell_type": "code",
      "metadata": {
        "colab": {
          "base_uri": "https://localhost:8080/"
        },
        "id": "GbC-Xj-dO5jw",
        "outputId": "0ab67777-bff4-4249-c653-5ae6631354e3"
      },
      "source": [
        "# Display the shape of data\n",
        "data.shape"
      ],
      "execution_count": 8,
      "outputs": [
        {
          "output_type": "execute_result",
          "data": {
            "text/plain": [
              "(51225, 6)"
            ]
          },
          "metadata": {
            "tags": []
          },
          "execution_count": 8
        }
      ]
    },
    {
      "cell_type": "code",
      "metadata": {
        "colab": {
          "base_uri": "https://localhost:8080/"
        },
        "id": "f1wJ5daRO5jx",
        "outputId": "29f84eb4-9178-4032-e2a5-c7b3131826b1"
      },
      "source": [
        "# Display the column names\n",
        "data.columns"
      ],
      "execution_count": 9,
      "outputs": [
        {
          "output_type": "execute_result",
          "data": {
            "text/plain": [
              "Index(['category', 'headline', 'authors', 'link', 'short_description', 'date'], dtype='object')"
            ]
          },
          "metadata": {
            "tags": []
          },
          "execution_count": 9
        }
      ]
    },
    {
      "cell_type": "code",
      "metadata": {
        "colab": {
          "base_uri": "https://localhost:8080/"
        },
        "id": "XQWnYCzFO5jx",
        "outputId": "0385e0ad-d87a-49cd-89dc-ec776968e690"
      },
      "source": [
        "# Display the type of data\n",
        "data.dtypes"
      ],
      "execution_count": 10,
      "outputs": [
        {
          "output_type": "execute_result",
          "data": {
            "text/plain": [
              "category                     object\n",
              "headline                     object\n",
              "authors                      object\n",
              "link                         object\n",
              "short_description            object\n",
              "date                 datetime64[ns]\n",
              "dtype: object"
            ]
          },
          "metadata": {
            "tags": []
          },
          "execution_count": 10
        }
      ]
    },
    {
      "cell_type": "code",
      "metadata": {
        "colab": {
          "base_uri": "https://localhost:8080/"
        },
        "id": "jg8rpBZpO5jx",
        "outputId": "14d99220-fb3c-492f-ae5e-00d77de72b6e"
      },
      "source": [
        "# Display the number of missing values for each column\n",
        "data.isna().sum()"
      ],
      "execution_count": 11,
      "outputs": [
        {
          "output_type": "execute_result",
          "data": {
            "text/plain": [
              "category             0\n",
              "headline             0\n",
              "authors              0\n",
              "link                 0\n",
              "short_description    0\n",
              "date                 0\n",
              "dtype: int64"
            ]
          },
          "metadata": {
            "tags": []
          },
          "execution_count": 11
        }
      ]
    },
    {
      "cell_type": "code",
      "metadata": {
        "colab": {
          "base_uri": "https://localhost:8080/",
          "height": 322
        },
        "id": "p0JswEeEO5jx",
        "outputId": "38870e68-069a-432f-ef06-8b51395dd507"
      },
      "source": [
        "# Display the distribution of data\n",
        "data['category'].value_counts().plot.bar()"
      ],
      "execution_count": 12,
      "outputs": [
        {
          "output_type": "execute_result",
          "data": {
            "text/plain": [
              "<matplotlib.axes._subplots.AxesSubplot at 0x7fc105974f98>"
            ]
          },
          "metadata": {
            "tags": []
          },
          "execution_count": 12
        },
        {
          "output_type": "display_data",
          "data": {
            "image/png": "[encoded data removed]",
            "text/plain": [
              "<Figure size 432x288 with 1 Axes>"
            ]
          },
          "metadata": {
            "tags": [],
            "needs_background": "light"
          }
        }
      ]
    },
    {
      "cell_type": "code",
      "metadata": {
        "colab": {
          "base_uri": "https://localhost:8080/",
          "height": 289
        },
        "id": "kvaFr_f2BL1h",
        "outputId": "17129c81-16d5-49b3-b79e-0c438f733979"
      },
      "source": [
        "data.head()"
      ],
      "execution_count": 13,
      "outputs": [
        {
          "output_type": "execute_result",
          "data": {
            "text/html": [
              "<div>\n",
              "<style scoped>\n",
              "    .dataframe tbody tr th:only-of-type {\n",
              "        vertical-align: middle;\n",
              "    }\n",
              "\n",
              "    .dataframe tbody tr th {\n",
              "        vertical-align: top;\n",
              "    }\n",
              "\n",
              "    .dataframe thead th {\n",
              "        text-align: right;\n",
              "    }\n",
              "</style>\n",
              "<table border=\"1\" class=\"dataframe\">\n",
              "  <thead>\n",
              "    <tr style=\"text-align: right;\">\n",
              "      <th></th>\n",
              "      <th>category</th>\n",
              "      <th>headline</th>\n",
              "      <th>authors</th>\n",
              "      <th>link</th>\n",
              "      <th>short_description</th>\n",
              "      <th>date</th>\n",
              "    </tr>\n",
              "  </thead>\n",
              "  <tbody>\n",
              "    <tr>\n",
              "      <th>0</th>\n",
              "      <td>CRIME</td>\n",
              "      <td>There Were 2 Mass Shootings In Texas Last Week...</td>\n",
              "      <td>Melissa Jeltsen</td>\n",
              "      <td>https://www.huffingtonpost.com/entry/texas-ama...</td>\n",
              "      <td>She left her husband. He killed their children...</td>\n",
              "      <td>2018-05-26</td>\n",
              "    </tr>\n",
              "    <tr>\n",
              "      <th>1</th>\n",
              "      <td>POLITICS</td>\n",
              "      <td>Trump's Crackdown On Immigrant Parents Puts Mo...</td>\n",
              "      <td>Elise Foley and Roque Planas</td>\n",
              "      <td>https://www.huffingtonpost.com/entry/immigrant...</td>\n",
              "      <td>Last month a Health and Human Services officia...</td>\n",
              "      <td>2018-05-26</td>\n",
              "    </tr>\n",
              "    <tr>\n",
              "      <th>2</th>\n",
              "      <td>POLITICS</td>\n",
              "      <td>'Trump's Son Should Be Concerned': FBI Obtaine...</td>\n",
              "      <td>Michael Isikoff, Yahoo News</td>\n",
              "      <td>https://www.huffingtonpost.com/entry/fbi-wiret...</td>\n",
              "      <td>The wiretaps feature conversations between Ale...</td>\n",
              "      <td>2018-05-26</td>\n",
              "    </tr>\n",
              "    <tr>\n",
              "      <th>3</th>\n",
              "      <td>POLITICS</td>\n",
              "      <td>Edward Snowden: There's No One Trump Loves Mor...</td>\n",
              "      <td>Mary Papenfuss</td>\n",
              "      <td>https://www.huffingtonpost.com/entry/edward-sn...</td>\n",
              "      <td>But don't count on Robert Mueller to nail him,...</td>\n",
              "      <td>2018-05-26</td>\n",
              "    </tr>\n",
              "    <tr>\n",
              "      <th>4</th>\n",
              "      <td>POLITICS</td>\n",
              "      <td>Booyah: Obama Photographer Hilariously Trolls ...</td>\n",
              "      <td>Mary Papenfuss</td>\n",
              "      <td>https://www.huffingtonpost.com/entry/obama-pho...</td>\n",
              "      <td>Just a peeping minute.</td>\n",
              "      <td>2018-05-26</td>\n",
              "    </tr>\n",
              "  </tbody>\n",
              "</table>\n",
              "</div>"
            ],
            "text/plain": [
              "   category  ...       date\n",
              "0     CRIME  ... 2018-05-26\n",
              "1  POLITICS  ... 2018-05-26\n",
              "2  POLITICS  ... 2018-05-26\n",
              "3  POLITICS  ... 2018-05-26\n",
              "4  POLITICS  ... 2018-05-26\n",
              "\n",
              "[5 rows x 6 columns]"
            ]
          },
          "metadata": {
            "tags": []
          },
          "execution_count": 13
        }
      ]
    },
    {
      "cell_type": "markdown",
      "metadata": {
        "id": "4WDJpGjPO5jy"
      },
      "source": [
        "# 3) Data Preparation:"
      ]
    },
    {
      "cell_type": "code",
      "metadata": {
        "id": "wsSxfn_KdtzD"
      },
      "source": [
        "# Concatenate headline and short_description\r\n",
        "\r\n",
        "data['information'] = data[['headline', 'short_description']].apply(lambda x: ' '.join(x), axis=1)"
      ],
      "execution_count": 14,
      "outputs": []
    },
    {
      "cell_type": "code",
      "metadata": {
        "id": "n_E-jRLKHYwN"
      },
      "source": [
        "from sklearn.preprocessing import LabelEncoder\r\n",
        "label_encoder = LabelEncoder()\r\n",
        "data[\"categoryEncoded\"] = label_encoder.fit_transform(data['category'])"
      ],
      "execution_count": 15,
      "outputs": []
    },
    {
      "cell_type": "code",
      "metadata": {
        "id": "FUU-GwkSO5jy"
      },
      "source": [
        "import nltk\n",
        "import string\n",
        "from nltk.corpus import stopwords\n",
        "from nltk.stem import WordNetLemmatizer\n",
        "nltk.download('stopwords')\n",
        "nltk.download('wordnet')\n",
        "\n",
        "def preprocess_text(text,stem=False):\n",
        "    # Lower case\n",
        "    text = text.lower().strip()\n",
        "    # Removing html tags\n",
        "    text = re.sub(r'<[^>]+>', ' ', text)\n",
        "    # Remove punctuations and numbers\n",
        "    text = re.sub('[^a-zA-Z]', ' ', text)\n",
        "    # Single character removal\n",
        "    text = re.sub(r\"\\s+[a-zA-Z]\\s+\", ' ', text)\n",
        "    # Removing multiple spaces\n",
        "    text = re.sub(r'\\s+', ' ', text)\n",
        "    # Removing stop words\n",
        "    text =  [word.lower() for word in text.split() if word not in stopwords.words('english')]\n",
        "    # lemmatize data\n",
        "    stemmer = WordNetLemmatizer()\n",
        "    text = [stemmer.lemmatize(word) for word in text]\n",
        "    return ' '.join(text)"
      ],
      "execution_count": null,
      "outputs": []
    },
    {
      "cell_type": "code",
      "metadata": {
        "id": "G4aOy1RwO5jy"
      },
      "source": [
        "# preprocess the text data\n",
        "L = []\n",
        "sentences = list(data['information'])\n",
        "for sen in sentences:\n",
        "    L.append(preprocess_text(sen))\n",
        "\n",
        "# save the result\n",
        "open_file = open(\"text_preprocessed\", \"wb\")\n",
        "pickle.dump(L, open_file)\n",
        "open_file.close()"
      ],
      "execution_count": 17,
      "outputs": []
    },
    {
      "cell_type": "code",
      "metadata": {
        "id": "XHT_9_sUvewn"
      },
      "source": [
        "# text cleaned\r\n",
        "\r\n",
        "data['text'] = L"
      ],
      "execution_count": 18,
      "outputs": []
    },
    {
      "cell_type": "code",
      "metadata": {
        "id": "XxdBC4yrO5jz"
      },
      "source": [
        "# Creation of the Tokenizer\n",
        "\n",
        "BertTokenizer = bert.bert_tokenization.FullTokenizer\n",
        "bert_layer = hub.KerasLayer(\"https://tfhub.dev/tensorflow/bert_en_uncased_L-12_H-768_A-12/1\",trainable=False)\n",
        "vocabulary_file = bert_layer.resolved_object.vocab_file.asset_path.numpy()\n",
        "to_lower_case = bert_layer.resolved_object.do_lower_case.numpy()\n",
        "tokenizer = BertTokenizer(vocabulary_file, to_lower_case)"
      ],
      "execution_count": null,
      "outputs": []
    },
    {
      "cell_type": "code",
      "metadata": {
        "id": "exFqke_OO5jz"
      },
      "source": [
        "# Tokenizing Data\n",
        "\n",
        "def tokenize_reviews(text_reviews):\n",
        "    return tokenizer.convert_tokens_to_ids(tokenizer.tokenize(text_reviews))\n",
        "\n",
        "tokenized_data = [tokenize_reviews(d) for d in data['text']]"
      ],
      "execution_count": 20,
      "outputs": []
    },
    {
      "cell_type": "code",
      "metadata": {
        "id": "hOo-WntQO5jz"
      },
      "source": [
        "# Build an X y list and shuffle the data\n",
        "\n",
        "data_list = [[x,data['categoryEncoded'][i]] for i, x in enumerate(tokenized_data)]\n",
        "random.shuffle(data_list)\n",
        "shuffled_data = [(x[0], x[1]) for x in data_list]"
      ],
      "execution_count": 21,
      "outputs": []
    },
    {
      "cell_type": "markdown",
      "metadata": {
        "id": "O1MkGggsBeJP"
      },
      "source": [
        "# 4) Modeling:"
      ]
    },
    {
      "cell_type": "markdown",
      "metadata": {
        "id": "wh4TQJk24bZg"
      },
      "source": [
        "### a) CNN:"
      ]
    },
    {
      "cell_type": "code",
      "metadata": {
        "id": "1JiP-1pZO5j0"
      },
      "source": [
        "# convert the sorted dataset into a TensorFlow 2.0-compliant input dataset shape.\n",
        "processed_dataset = tf.data.Dataset.from_generator(lambda: shuffled_data, output_types=(tf.int32, tf.int32))\n",
        "\n",
        "#  pad the dataset for each batch\n",
        "categories = 6\n",
        "BATCH_SIZE = 32\n",
        "batched_dataset = processed_dataset.padded_batch(BATCH_SIZE, padded_shapes=((None, ), ()))\n",
        "\n",
        "# We divide the dataset into test and training sets\n",
        "TOTAL_BATCHES = math.ceil(len(shuffled_data) / BATCH_SIZE)\n",
        "TEST_BATCHES = TOTAL_BATCHES // 10\n",
        "batched_dataset.shuffle(TOTAL_BATCHES)\n",
        "test_data = batched_dataset.take(TEST_BATCHES)\n",
        "train_data = batched_dataset.skip(TEST_BATCHES)"
      ],
      "execution_count": 22,
      "outputs": []
    },
    {
      "cell_type": "code",
      "metadata": {
        "id": "KY4B-scBO5j1"
      },
      "source": [
        "# Creating the model\n",
        "\n",
        "class TEXT_MODEL(tf.keras.Model):\n",
        "    \n",
        "    def __init__(self,\n",
        "                 vocabulary_size,\n",
        "                 embedding_dimensions=128,\n",
        "                 cnn_filters=50,\n",
        "                 dnn_units=512,\n",
        "                 model_output_classes=2,\n",
        "                 dropout_rate=0.1,\n",
        "                 training=False,\n",
        "                 name=\"text_model\"):\n",
        "        super(TEXT_MODEL, self).__init__(name=name)\n",
        "        \n",
        "        self.embedding = layers.Embedding(vocabulary_size,\n",
        "                                          embedding_dimensions)\n",
        "        self.cnn_layer1 = layers.Conv1D(filters=cnn_filters,\n",
        "                                        kernel_size=2,\n",
        "                                        padding=\"valid\",\n",
        "                                        activation=\"relu\")\n",
        "        self.cnn_layer2 = layers.Conv1D(filters=cnn_filters,\n",
        "                                        kernel_size=3,\n",
        "                                        padding=\"valid\",\n",
        "                                        activation=\"relu\")\n",
        "        self.cnn_layer3 = layers.Conv1D(filters=cnn_filters,\n",
        "                                        kernel_size=4,\n",
        "                                        padding=\"valid\",\n",
        "                                        activation=\"relu\")\n",
        "        self.pool = layers.GlobalMaxPool1D()\n",
        "        \n",
        "        self.dense_1 = layers.Dense(units=dnn_units, activation=\"relu\")\n",
        "        self.dropout = layers.Dropout(rate=dropout_rate)\n",
        "        if model_output_classes == 2:\n",
        "            self.last_dense = layers.Dense(units=1,\n",
        "                                           activation=\"sigmoid\")\n",
        "        else:\n",
        "            self.last_dense = layers.Dense(units=model_output_classes,\n",
        "                                           activation=\"softmax\")\n",
        "    \n",
        "    def call(self, inputs, training):\n",
        "        l = self.embedding(inputs)\n",
        "        l_1 = self.cnn_layer1(l) \n",
        "        l_1 = self.pool(l_1) \n",
        "        l_2 = self.cnn_layer2(l) \n",
        "        l_2 = self.pool(l_2)\n",
        "        l_3 = self.cnn_layer3(l)\n",
        "        l_3 = self.pool(l_3) \n",
        "        \n",
        "        concatenated = tf.concat([l_1, l_2, l_3], axis=-1) # (batch_size, 3 * cnn_filters)\n",
        "        concatenated = self.dense_1(concatenated)\n",
        "        concatenated = self.dropout(concatenated, training)\n",
        "        model_output = self.last_dense(concatenated)\n",
        "        \n",
        "        return model_output"
      ],
      "execution_count": 23,
      "outputs": []
    },
    {
      "cell_type": "code",
      "metadata": {
        "id": "twiazoj3O5j1"
      },
      "source": [
        "# Defining hyper parameters\n",
        "VOCAB_LENGTH = len(tokenizer.vocab)\n",
        "EMB_DIM = 200\n",
        "CNN_FILTERS = 100\n",
        "DNN_UNITS = 256\n",
        "OUTPUT_CLASSES = categories\n",
        "DROPOUT_RATE = 0.2\n",
        "NB_EPOCHS = 2"
      ],
      "execution_count": 27,
      "outputs": []
    },
    {
      "cell_type": "code",
      "metadata": {
        "id": "r1uicfa_O5j1"
      },
      "source": [
        "# We create an object of the TEXT_MODEL class and pass the hyper paramters values \n",
        "text_model = TEXT_MODEL(vocabulary_size=VOCAB_LENGTH,\n",
        "                        embedding_dimensions=EMB_DIM,\n",
        "                        cnn_filters=CNN_FILTERS,\n",
        "                        dnn_units=DNN_UNITS,\n",
        "                        model_output_classes=OUTPUT_CLASSES,\n",
        "                        dropout_rate=DROPOUT_RATE)"
      ],
      "execution_count": 28,
      "outputs": []
    },
    {
      "cell_type": "code",
      "metadata": {
        "id": "AChstEI_O5j2"
      },
      "source": [
        "# Complie the model\n",
        "if OUTPUT_CLASSES == 2:\n",
        "    text_model.compile(loss=\"binary_crossentropy\",\n",
        "                       optimizer=\"adam\",\n",
        "                       metrics=[\"accuracy\"])\n",
        "else:\n",
        "    text_model.compile(loss=\"sparse_categorical_crossentropy\",\n",
        "                       optimizer=\"adam\",\n",
        "                       metrics=[\"sparse_categorical_accuracy\"])"
      ],
      "execution_count": 29,
      "outputs": []
    },
    {
      "cell_type": "code",
      "metadata": {
        "colab": {
          "base_uri": "https://localhost:8080/"
        },
        "id": "GfCwFCyCO5j3",
        "outputId": "a9eda55d-c13d-4b31-ccdd-d93c7a05e329"
      },
      "source": [
        "# Training\n",
        "text_model.fit(train_data, batch_size=BATCH_SIZE,epochs=NB_EPOCHS, validation_data=(test_data))"
      ],
      "execution_count": 30,
      "outputs": [
        {
          "output_type": "stream",
          "text": [
            "Epoch 1/2\n",
            "1441/1441 [==============================] - 113s 77ms/step - loss: 0.7275 - sparse_categorical_accuracy: 0.7574 - val_loss: 0.3673 - val_sparse_categorical_accuracy: 0.8699\n",
            "Epoch 2/2\n",
            "1441/1441 [==============================] - 110s 76ms/step - loss: 0.2713 - sparse_categorical_accuracy: 0.9103 - val_loss: 0.4822 - val_sparse_categorical_accuracy: 0.8629\n"
          ],
          "name": "stdout"
        },
        {
          "output_type": "execute_result",
          "data": {
            "text/plain": [
              "<tensorflow.python.keras.callbacks.History at 0x7fc0feb653c8>"
            ]
          },
          "metadata": {
            "tags": []
          },
          "execution_count": 30
        }
      ]
    },
    {
      "cell_type": "code",
      "metadata": {
        "colab": {
          "base_uri": "https://localhost:8080/"
        },
        "id": "G6jF_taJSZgd",
        "outputId": "8837b0f6-fae2-4b11-c1e1-9974d3f85a66"
      },
      "source": [
        "# Evaluate the model on test data\r\n",
        "\r\n",
        "results = text_model.evaluate(test_data)"
      ],
      "execution_count": 37,
      "outputs": [
        {
          "output_type": "stream",
          "text": [
            "160/160 [==============================] - 3s 18ms/step - loss: 0.4822 - sparse_categorical_accuracy: 0.8629\n"
          ],
          "name": "stdout"
        }
      ]
    },
    {
      "cell_type": "markdown",
      "metadata": {
        "id": "9_mS3PDkjBoj"
      },
      "source": [
        "### b) SVM:"
      ]
    },
    {
      "cell_type": "code",
      "metadata": {
        "id": "AwJ6_XVxlIeJ"
      },
      "source": [
        "# TF-IDF Vectorizer\r\n",
        "from sklearn.feature_extraction.text import TfidfVectorizer\r\n",
        "vectorize = TfidfVectorizer()\r\n",
        "tf_idf_text = vectorize.fit(data['text'])\r\n",
        "vector1 = tf_idf_text.transform(data['text'])"
      ],
      "execution_count": 106,
      "outputs": []
    },
    {
      "cell_type": "code",
      "metadata": {
        "id": "XQW5j21G7jFq"
      },
      "source": [
        "# Split the data into train and test.\r\n",
        "\r\n",
        "X_train, X_test, Y_train, Y_test = sklearn.model_selection.train_test_split(vector1, data['category'], test_size=0.33)"
      ],
      "execution_count": 32,
      "outputs": []
    },
    {
      "cell_type": "code",
      "metadata": {
        "id": "ofztjcfejD2k"
      },
      "source": [
        "from sklearn.svm import LinearSVC\r\n",
        "from sklearn.metrics import accuracy_score ,confusion_matrix\r\n",
        "\r\n",
        "SVM = LinearSVC()\r\n",
        "SVM.fit(X_train,Y_train)\r\n",
        "Y_predict = SVM.predict(X_test)\r\n",
        "accuracy_SVM = accuracy_score(Y_test,Y_predict)*100"
      ],
      "execution_count": 33,
      "outputs": []
    },
    {
      "cell_type": "markdown",
      "metadata": {
        "id": "ORJ-sK7X8iLZ"
      },
      "source": [
        "### c) Logistic Regression:"
      ]
    },
    {
      "cell_type": "code",
      "metadata": {
        "id": "lx0qJ9lR8DvB"
      },
      "source": [
        "from sklearn.linear_model import LogisticRegression\r\n",
        "\r\n",
        "logistic_Regression = LogisticRegression()\r\n",
        "logistic_Regression.fit(X_train,Y_train)\r\n",
        "Y_predict = logistic_Regression.predict(X_test)\r\n",
        "accuracy_logistic_Regression = accuracy_score(Y_test,Y_predict)*100"
      ],
      "execution_count": null,
      "outputs": []
    },
    {
      "cell_type": "markdown",
      "metadata": {
        "id": "TKsLCP-k8mE6"
      },
      "source": [
        "### d) Naive Bayes:"
      ]
    },
    {
      "cell_type": "code",
      "metadata": {
        "id": "rNYi_m6N8TeK"
      },
      "source": [
        "from sklearn.naive_bayes import MultinomialNB\r\n",
        "\r\n",
        "NaiveBayes = MultinomialNB(alpha=0.1)\r\n",
        "NaiveBayes.fit(X_train,Y_train)\r\n",
        "Y_predict = NaiveBayes.predict(X_test)\r\n",
        "accuracy_NaiveBayes = accuracy_score(Y_test,Y_predict)*100"
      ],
      "execution_count": 35,
      "outputs": []
    },
    {
      "cell_type": "markdown",
      "metadata": {
        "id": "rs4qP-HlFMOv"
      },
      "source": [
        "# 5) Evaluation:"
      ]
    },
    {
      "cell_type": "code",
      "metadata": {
        "colab": {
          "base_uri": "https://localhost:8080/"
        },
        "id": "tbWossNvRtRN",
        "outputId": "1a991198-2644-413d-ffba-a4e3d516c347"
      },
      "source": [
        "# Diplaying accuracy for each model\r\n",
        "\r\n",
        "print(\"Accuracy\\n\")\r\n",
        "print(\"CNN + Bert: \", format(results[1]*100, '.2f'),\"%\")\r\n",
        "print(\"SVM: \",format(accuracy_SVM, '.2f'),\"%\")\r\n",
        "print(\"Logistic Regression: \",format(accuracy_logistic_Regression, '.2f'),\"%\")\r\n",
        "print(\"Naive Bayes: \",format(accuracy_NaiveBayes, '.2f'),\"%\")"
      ],
      "execution_count": 78,
      "outputs": [
        {
          "output_type": "stream",
          "text": [
            "Accuracy\n",
            "\n",
            "CNN + Bert:  86.29 %\n",
            "SVM:  86.80 %\n",
            "Logistic Regression:  85.48 %\n",
            "Naive Bayes:  83.63 %\n"
          ],
          "name": "stdout"
        }
      ]
    },
    {
      "cell_type": "code",
      "metadata": {
        "id": "hgtnrJSI0Dec"
      },
      "source": [
        "# List of categories\r\n",
        "\r\n",
        "catego = ['BUSINESS', 'CRIME', 'POLITICS', 'SCIENCE', 'SPORTS', 'TECH']"
      ],
      "execution_count": 79,
      "outputs": []
    },
    {
      "cell_type": "code",
      "metadata": {
        "id": "wBbaN6PBWsaU"
      },
      "source": [
        "# test text\r\n",
        "\r\n",
        "text = \"jhon killed his father and mother and escaped\"\r\n",
        "text = \"all the scientist are trying to make new vaccine against the covid 19\"\r\n",
        "text = \"Joe Biden is the new president of US\"\r\n",
        "t = preprocess_text(text)"
      ],
      "execution_count": 113,
      "outputs": []
    },
    {
      "cell_type": "code",
      "metadata": {
        "colab": {
          "base_uri": "https://localhost:8080/"
        },
        "id": "y3K4EPiuT5Hq",
        "outputId": "263725ce-e1a5-4f7d-b6b2-beaac2bba132"
      },
      "source": [
        "prediction = text_model.predict([tokenize_reviews(t)])\r\n",
        "print(\"CNN + Bert: \",catego[np.argmax(prediction)])\r\n",
        "print(\"SVM: \",SVM.predict(tf_idf_text.transform([t])))\r\n",
        "print(\"Logistic Regression: \",logistic_Regression.predict(tf_idf_text.transform([t])))\r\n",
        "print(\"Naive Bayes: \",NaiveBayes.predict(tf_idf_text.transform([t])))"
      ],
      "execution_count": 114,
      "outputs": [
        {
          "output_type": "stream",
          "text": [
            "CNN + Bert:  POLITICS\n",
            "SVM:  ['POLITICS']\n",
            "Logistic Regression:  ['POLITICS']\n",
            "Naive Bayes:  ['POLITICS']\n"
          ],
          "name": "stdout"
        }
      ]
    },
    {
      "cell_type": "code",
      "metadata": {
        "id": "AahRuSgMIRjM"
      },
      "source": [
        "# saving the model\n",
        "\n",
        "text_model.save('model',save_format='tf')\n",
        "!apt-get install rar\n",
        "!zip -r \"model.zip\" \"/content/model\""
      ],
      "execution_count": null,
      "outputs": []
    },
    {
      "cell_type": "markdown",
      "metadata": {
        "id": "AgxJoYQ24_2h"
      },
      "source": [
        "# **II- Sentiment Analysis:**"
      ]
    },
    {
      "cell_type": "code",
      "metadata": {
        "id": "OncYGSh35EQC"
      },
      "source": [
        "import nltk\r\n",
        "nltk.download('vader_lexicon')\r\n",
        "from nltk.sentiment.vader import SentimentIntensityAnalyzer\r\n",
        "\r\n",
        "sid = SentimentIntensityAnalyzer()"
      ],
      "execution_count": null,
      "outputs": []
    },
    {
      "cell_type": "code",
      "metadata": {
        "id": "LoTlwupH5Z54"
      },
      "source": [
        "data['scores'] = data['text'].apply(lambda text: sid.polarity_scores(text))\r\n",
        "data['compound']  = data['scores'].apply(lambda score_dict: score_dict['compound'])\r\n",
        "data['sentiment'] = data['compound'].apply(lambda c: 'pos' if c >=0 else 'neg')"
      ],
      "execution_count": 61,
      "outputs": []
    },
    {
      "cell_type": "code",
      "metadata": {
        "colab": {
          "base_uri": "https://localhost:8080/",
          "height": 564
        },
        "id": "yRQCai076Ju_",
        "outputId": "e8f6714f-c18b-4671-f5e3-92e3d9592907"
      },
      "source": [
        "data.head()"
      ],
      "execution_count": 62,
      "outputs": [
        {
          "output_type": "execute_result",
          "data": {
            "text/html": [
              "<div>\n",
              "<style scoped>\n",
              "    .dataframe tbody tr th:only-of-type {\n",
              "        vertical-align: middle;\n",
              "    }\n",
              "\n",
              "    .dataframe tbody tr th {\n",
              "        vertical-align: top;\n",
              "    }\n",
              "\n",
              "    .dataframe thead th {\n",
              "        text-align: right;\n",
              "    }\n",
              "</style>\n",
              "<table border=\"1\" class=\"dataframe\">\n",
              "  <thead>\n",
              "    <tr style=\"text-align: right;\">\n",
              "      <th></th>\n",
              "      <th>category</th>\n",
              "      <th>headline</th>\n",
              "      <th>authors</th>\n",
              "      <th>link</th>\n",
              "      <th>short_description</th>\n",
              "      <th>date</th>\n",
              "      <th>information</th>\n",
              "      <th>categoryEncoded</th>\n",
              "      <th>text</th>\n",
              "      <th>scores</th>\n",
              "      <th>compound</th>\n",
              "      <th>sentiment</th>\n",
              "    </tr>\n",
              "  </thead>\n",
              "  <tbody>\n",
              "    <tr>\n",
              "      <th>0</th>\n",
              "      <td>CRIME</td>\n",
              "      <td>There Were 2 Mass Shootings In Texas Last Week...</td>\n",
              "      <td>Melissa Jeltsen</td>\n",
              "      <td>https://www.huffingtonpost.com/entry/texas-ama...</td>\n",
              "      <td>She left her husband. He killed their children...</td>\n",
              "      <td>2018-05-26</td>\n",
              "      <td>There Were 2 Mass Shootings In Texas Last Week...</td>\n",
              "      <td>1</td>\n",
              "      <td>mass shooting texas last week tv left husband ...</td>\n",
              "      <td>{'neg': 0.273, 'neu': 0.727, 'pos': 0.0, 'comp...</td>\n",
              "      <td>-0.6705</td>\n",
              "      <td>neg</td>\n",
              "    </tr>\n",
              "    <tr>\n",
              "      <th>1</th>\n",
              "      <td>POLITICS</td>\n",
              "      <td>Trump's Crackdown On Immigrant Parents Puts Mo...</td>\n",
              "      <td>Elise Foley and Roque Planas</td>\n",
              "      <td>https://www.huffingtonpost.com/entry/immigrant...</td>\n",
              "      <td>Last month a Health and Human Services officia...</td>\n",
              "      <td>2018-05-26</td>\n",
              "      <td>Trump's Crackdown On Immigrant Parents Puts Mo...</td>\n",
              "      <td>2</td>\n",
              "      <td>trump crackdown immigrant parent put kid alrea...</td>\n",
              "      <td>{'neg': 0.109, 'neu': 0.891, 'pos': 0.0, 'comp...</td>\n",
              "      <td>-0.4019</td>\n",
              "      <td>neg</td>\n",
              "    </tr>\n",
              "    <tr>\n",
              "      <th>2</th>\n",
              "      <td>POLITICS</td>\n",
              "      <td>'Trump's Son Should Be Concerned': FBI Obtaine...</td>\n",
              "      <td>Michael Isikoff, Yahoo News</td>\n",
              "      <td>https://www.huffingtonpost.com/entry/fbi-wiret...</td>\n",
              "      <td>The wiretaps feature conversations between Ale...</td>\n",
              "      <td>2018-05-26</td>\n",
              "      <td>'Trump's Son Should Be Concerned': FBI Obtaine...</td>\n",
              "      <td>2</td>\n",
              "      <td>trump son concerned fbi obtained wiretap putin...</td>\n",
              "      <td>{'neg': 0.0, 'neu': 1.0, 'pos': 0.0, 'compound...</td>\n",
              "      <td>0.0000</td>\n",
              "      <td>pos</td>\n",
              "    </tr>\n",
              "    <tr>\n",
              "      <th>3</th>\n",
              "      <td>POLITICS</td>\n",
              "      <td>Edward Snowden: There's No One Trump Loves Mor...</td>\n",
              "      <td>Mary Papenfuss</td>\n",
              "      <td>https://www.huffingtonpost.com/entry/edward-sn...</td>\n",
              "      <td>But don't count on Robert Mueller to nail him,...</td>\n",
              "      <td>2018-05-26</td>\n",
              "      <td>Edward Snowden: There's No One Trump Loves Mor...</td>\n",
              "      <td>2</td>\n",
              "      <td>edward snowden one trump love vladimir putin c...</td>\n",
              "      <td>{'neg': 0.08, 'neu': 0.682, 'pos': 0.239, 'com...</td>\n",
              "      <td>0.5859</td>\n",
              "      <td>pos</td>\n",
              "    </tr>\n",
              "    <tr>\n",
              "      <th>4</th>\n",
              "      <td>POLITICS</td>\n",
              "      <td>Booyah: Obama Photographer Hilariously Trolls ...</td>\n",
              "      <td>Mary Papenfuss</td>\n",
              "      <td>https://www.huffingtonpost.com/entry/obama-pho...</td>\n",
              "      <td>Just a peeping minute.</td>\n",
              "      <td>2018-05-26</td>\n",
              "      <td>Booyah: Obama Photographer Hilariously Trolls ...</td>\n",
              "      <td>2</td>\n",
              "      <td>booyah obama photographer hilariously troll tr...</td>\n",
              "      <td>{'neg': 0.0, 'neu': 1.0, 'pos': 0.0, 'compound...</td>\n",
              "      <td>0.0000</td>\n",
              "      <td>pos</td>\n",
              "    </tr>\n",
              "  </tbody>\n",
              "</table>\n",
              "</div>"
            ],
            "text/plain": [
              "   category  ... sentiment\n",
              "0     CRIME  ...       neg\n",
              "1  POLITICS  ...       neg\n",
              "2  POLITICS  ...       pos\n",
              "3  POLITICS  ...       pos\n",
              "4  POLITICS  ...       pos\n",
              "\n",
              "[5 rows x 12 columns]"
            ]
          },
          "metadata": {
            "tags": []
          },
          "execution_count": 62
        }
      ]
    },
    {
      "cell_type": "markdown",
      "metadata": {
        "id": "cJCvMkJ2f3b6"
      },
      "source": [
        "# **III- Topic Modeling:**"
      ]
    },
    {
      "cell_type": "markdown",
      "metadata": {
        "id": "rZ5VVixOhVHt"
      },
      "source": [
        "# 1) Non-negative Matrix Factorization (NMF):"
      ]
    },
    {
      "cell_type": "code",
      "metadata": {
        "colab": {
          "base_uri": "https://localhost:8080/"
        },
        "id": "Avsz2JjggU11",
        "outputId": "9b61d365-2429-43c0-81e2-92b36e0e22ad"
      },
      "source": [
        "from sklearn.decomposition import NMF\r\n",
        "\r\n",
        "nmf_model = NMF(n_components=categories,random_state=42)\r\n",
        "nmf_model.fit(vector1)"
      ],
      "execution_count": 63,
      "outputs": [
        {
          "output_type": "execute_result",
          "data": {
            "text/plain": [
              "NMF(alpha=0.0, beta_loss='frobenius', init=None, l1_ratio=0.0, max_iter=200,\n",
              "    n_components=6, random_state=42, shuffle=False, solver='cd', tol=0.0001,\n",
              "    verbose=0)"
            ]
          },
          "metadata": {
            "tags": []
          },
          "execution_count": 63
        }
      ]
    },
    {
      "cell_type": "code",
      "metadata": {
        "colab": {
          "base_uri": "https://localhost:8080/"
        },
        "id": "AKD54617gi2b",
        "outputId": "d9c6d2fb-c82a-4d63-c053-4564cca15a9a"
      },
      "source": [
        "for index,topic in enumerate(nmf_model.components_):\r\n",
        "    print(f'THE TOP 10 WORDS FOR TOPIC #{index}')\r\n",
        "    print([tf_idf_text.get_feature_names()[i] for i in topic.argsort()[-10:]])\r\n",
        "    print('\\n')"
      ],
      "execution_count": 65,
      "outputs": [
        {
          "output_type": "stream",
          "text": [
            "THE TOP 10 WORDS FOR TOPIC #0\n",
            "['police', 'american', 'woman', 'time', 'say', 'people', 'one', 'state', 'year', 'new']\n",
            "\n",
            "\n",
            "THE TOP 10 WORDS FOR TOPIC #1\n",
            "['day', 'start', 'short', 'welcome', 'wrap', 'news', 'morning', 'newsbrief', 'rise', 'huffpost']\n",
            "\n",
            "\n",
            "THE TOP 10 WORDS FOR TOPIC #2\n",
            "['think', 'election', 'voter', 'russia', 'said', 'say', 'campaign', 'president', 'donald', 'trump']\n",
            "\n",
            "\n",
            "THE TOP 10 WORDS FOR TOPIC #3\n",
            "['poll', 'presidential', 'debate', 'email', 'campaign', 'democratic', 'bernie', 'sander', 'hillary', 'clinton']\n",
            "\n",
            "\n",
            "THE TOP 10 WORDS FOR TOPIC #4\n",
            "['tax', 'party', 'obamacare', 'democrat', 'senate', 'bill', 'care', 'health', 'gop', 'republican']\n",
            "\n",
            "\n",
            "THE TOP 10 WORDS FOR TOPIC #5\n",
            "['climate', 'congress', 'said', 'say', 'administration', 'barack', 'president', 'white', 'house', 'obama']\n",
            "\n",
            "\n"
          ],
          "name": "stdout"
        }
      ]
    },
    {
      "cell_type": "code",
      "metadata": {
        "id": "0-K41CRdgvec"
      },
      "source": [
        "topic_results = nmf_model.transform(vector1)\r\n",
        "topic_results.argmax(axis=1)\r\n",
        "\r\n",
        "data['NMF'] = topic_results.argmax(axis=1)"
      ],
      "execution_count": 66,
      "outputs": []
    },
    {
      "cell_type": "code",
      "metadata": {
        "colab": {
          "base_uri": "https://localhost:8080/",
          "height": 564
        },
        "id": "FZG-NVy_zgEH",
        "outputId": "7dbdabc0-1708-481d-8a99-00aff664a5ed"
      },
      "source": [
        "data.head()"
      ],
      "execution_count": 67,
      "outputs": [
        {
          "output_type": "execute_result",
          "data": {
            "text/html": [
              "<div>\n",
              "<style scoped>\n",
              "    .dataframe tbody tr th:only-of-type {\n",
              "        vertical-align: middle;\n",
              "    }\n",
              "\n",
              "    .dataframe tbody tr th {\n",
              "        vertical-align: top;\n",
              "    }\n",
              "\n",
              "    .dataframe thead th {\n",
              "        text-align: right;\n",
              "    }\n",
              "</style>\n",
              "<table border=\"1\" class=\"dataframe\">\n",
              "  <thead>\n",
              "    <tr style=\"text-align: right;\">\n",
              "      <th></th>\n",
              "      <th>category</th>\n",
              "      <th>headline</th>\n",
              "      <th>authors</th>\n",
              "      <th>link</th>\n",
              "      <th>short_description</th>\n",
              "      <th>date</th>\n",
              "      <th>information</th>\n",
              "      <th>categoryEncoded</th>\n",
              "      <th>text</th>\n",
              "      <th>scores</th>\n",
              "      <th>compound</th>\n",
              "      <th>sentiment</th>\n",
              "      <th>NMF</th>\n",
              "    </tr>\n",
              "  </thead>\n",
              "  <tbody>\n",
              "    <tr>\n",
              "      <th>0</th>\n",
              "      <td>CRIME</td>\n",
              "      <td>There Were 2 Mass Shootings In Texas Last Week...</td>\n",
              "      <td>Melissa Jeltsen</td>\n",
              "      <td>https://www.huffingtonpost.com/entry/texas-ama...</td>\n",
              "      <td>She left her husband. He killed their children...</td>\n",
              "      <td>2018-05-26</td>\n",
              "      <td>There Were 2 Mass Shootings In Texas Last Week...</td>\n",
              "      <td>1</td>\n",
              "      <td>mass shooting texas last week tv left husband ...</td>\n",
              "      <td>{'neg': 0.273, 'neu': 0.727, 'pos': 0.0, 'comp...</td>\n",
              "      <td>-0.6705</td>\n",
              "      <td>neg</td>\n",
              "      <td>0</td>\n",
              "    </tr>\n",
              "    <tr>\n",
              "      <th>1</th>\n",
              "      <td>POLITICS</td>\n",
              "      <td>Trump's Crackdown On Immigrant Parents Puts Mo...</td>\n",
              "      <td>Elise Foley and Roque Planas</td>\n",
              "      <td>https://www.huffingtonpost.com/entry/immigrant...</td>\n",
              "      <td>Last month a Health and Human Services officia...</td>\n",
              "      <td>2018-05-26</td>\n",
              "      <td>Trump's Crackdown On Immigrant Parents Puts Mo...</td>\n",
              "      <td>2</td>\n",
              "      <td>trump crackdown immigrant parent put kid alrea...</td>\n",
              "      <td>{'neg': 0.109, 'neu': 0.891, 'pos': 0.0, 'comp...</td>\n",
              "      <td>-0.4019</td>\n",
              "      <td>neg</td>\n",
              "      <td>2</td>\n",
              "    </tr>\n",
              "    <tr>\n",
              "      <th>2</th>\n",
              "      <td>POLITICS</td>\n",
              "      <td>'Trump's Son Should Be Concerned': FBI Obtaine...</td>\n",
              "      <td>Michael Isikoff, Yahoo News</td>\n",
              "      <td>https://www.huffingtonpost.com/entry/fbi-wiret...</td>\n",
              "      <td>The wiretaps feature conversations between Ale...</td>\n",
              "      <td>2018-05-26</td>\n",
              "      <td>'Trump's Son Should Be Concerned': FBI Obtaine...</td>\n",
              "      <td>2</td>\n",
              "      <td>trump son concerned fbi obtained wiretap putin...</td>\n",
              "      <td>{'neg': 0.0, 'neu': 1.0, 'pos': 0.0, 'compound...</td>\n",
              "      <td>0.0000</td>\n",
              "      <td>pos</td>\n",
              "      <td>2</td>\n",
              "    </tr>\n",
              "    <tr>\n",
              "      <th>3</th>\n",
              "      <td>POLITICS</td>\n",
              "      <td>Edward Snowden: There's No One Trump Loves Mor...</td>\n",
              "      <td>Mary Papenfuss</td>\n",
              "      <td>https://www.huffingtonpost.com/entry/edward-sn...</td>\n",
              "      <td>But don't count on Robert Mueller to nail him,...</td>\n",
              "      <td>2018-05-26</td>\n",
              "      <td>Edward Snowden: There's No One Trump Loves Mor...</td>\n",
              "      <td>2</td>\n",
              "      <td>edward snowden one trump love vladimir putin c...</td>\n",
              "      <td>{'neg': 0.08, 'neu': 0.682, 'pos': 0.239, 'com...</td>\n",
              "      <td>0.5859</td>\n",
              "      <td>pos</td>\n",
              "      <td>2</td>\n",
              "    </tr>\n",
              "    <tr>\n",
              "      <th>4</th>\n",
              "      <td>POLITICS</td>\n",
              "      <td>Booyah: Obama Photographer Hilariously Trolls ...</td>\n",
              "      <td>Mary Papenfuss</td>\n",
              "      <td>https://www.huffingtonpost.com/entry/obama-pho...</td>\n",
              "      <td>Just a peeping minute.</td>\n",
              "      <td>2018-05-26</td>\n",
              "      <td>Booyah: Obama Photographer Hilariously Trolls ...</td>\n",
              "      <td>2</td>\n",
              "      <td>booyah obama photographer hilariously troll tr...</td>\n",
              "      <td>{'neg': 0.0, 'neu': 1.0, 'pos': 0.0, 'compound...</td>\n",
              "      <td>0.0000</td>\n",
              "      <td>pos</td>\n",
              "      <td>5</td>\n",
              "    </tr>\n",
              "  </tbody>\n",
              "</table>\n",
              "</div>"
            ],
            "text/plain": [
              "   category                                           headline  ... sentiment NMF\n",
              "0     CRIME  There Were 2 Mass Shootings In Texas Last Week...  ...       neg   0\n",
              "1  POLITICS  Trump's Crackdown On Immigrant Parents Puts Mo...  ...       neg   2\n",
              "2  POLITICS  'Trump's Son Should Be Concerned': FBI Obtaine...  ...       pos   2\n",
              "3  POLITICS  Edward Snowden: There's No One Trump Loves Mor...  ...       pos   2\n",
              "4  POLITICS  Booyah: Obama Photographer Hilariously Trolls ...  ...       pos   5\n",
              "\n",
              "[5 rows x 13 columns]"
            ]
          },
          "metadata": {
            "tags": []
          },
          "execution_count": 67
        }
      ]
    },
    {
      "cell_type": "markdown",
      "metadata": {
        "id": "3IB9i47_hemr"
      },
      "source": [
        "# 2) Latent Dirichlet Allocation (LDA):"
      ]
    },
    {
      "cell_type": "code",
      "metadata": {
        "id": "TIBk2AEVhiuH"
      },
      "source": [
        "from sklearn.feature_extraction.text import CountVectorizer\r\n",
        "\r\n",
        "cv = CountVectorizer(max_df=0.95, min_df=2, stop_words='english')\r\n",
        "dtm = cv.fit_transform(data['text'])"
      ],
      "execution_count": 68,
      "outputs": []
    },
    {
      "cell_type": "code",
      "metadata": {
        "colab": {
          "base_uri": "https://localhost:8080/"
        },
        "id": "us8thKN2iOwR",
        "outputId": "55328095-dd3c-49f6-b8e3-4d6f2c463fb8"
      },
      "source": [
        "from sklearn.decomposition import LatentDirichletAllocation\r\n",
        "\r\n",
        "LDA = LatentDirichletAllocation(n_components=categories,random_state=42)\r\n",
        "LDA.fit(dtm)"
      ],
      "execution_count": 69,
      "outputs": [
        {
          "output_type": "execute_result",
          "data": {
            "text/plain": [
              "LatentDirichletAllocation(batch_size=128, doc_topic_prior=None,\n",
              "                          evaluate_every=-1, learning_decay=0.7,\n",
              "                          learning_method='batch', learning_offset=10.0,\n",
              "                          max_doc_update_iter=100, max_iter=10,\n",
              "                          mean_change_tol=0.001, n_components=6, n_jobs=None,\n",
              "                          perp_tol=0.1, random_state=42, topic_word_prior=None,\n",
              "                          total_samples=1000000.0, verbose=0)"
            ]
          },
          "metadata": {
            "tags": []
          },
          "execution_count": 69
        }
      ]
    },
    {
      "cell_type": "code",
      "metadata": {
        "colab": {
          "base_uri": "https://localhost:8080/"
        },
        "id": "HVsWX2kUiffk",
        "outputId": "d30f7148-0810-4834-e390-124973d74d04"
      },
      "source": [
        "for index,topic in enumerate(LDA.components_):\r\n",
        "    print(f'THE TOP 10 WORDS FOR TOPIC #{index}')\r\n",
        "    print([cv.get_feature_names()[i] for i in topic.argsort()[-10:]])\r\n",
        "    print('\\n')"
      ],
      "execution_count": 70,
      "outputs": [
        {
          "output_type": "stream",
          "text": [
            "THE TOP 10 WORDS FOR TOPIC #0\n",
            "['team', 'know', 'player', 'huffpost', 'rise', 'time', 'day', 'new', 'game', 'world']\n",
            "\n",
            "\n",
            "THE TOP 10 WORDS FOR TOPIC #1\n",
            "['government', 'federal', 'people', 'judge', 'supreme', 'law', 'obama', 'state', 'right', 'court']\n",
            "\n",
            "\n",
            "THE TOP 10 WORDS FOR TOPIC #2\n",
            "['like', 'wall', 'time', 'people', 'job', 'tax', 'new', 'year', 'business', 'company']\n",
            "\n",
            "\n",
            "THE TOP 10 WORDS FOR TOPIC #3\n",
            "['russia', 'paul', 'obama', 'said', 'house', 'white', 'say', 'president', 'donald', 'trump']\n",
            "\n",
            "\n",
            "THE TOP 10 WORDS FOR TOPIC #4\n",
            "['party', 'democrat', 'candidate', 'sander', 'health', 'hillary', 'gop', 'trump', 'republican', 'clinton']\n",
            "\n",
            "\n",
            "THE TOP 10 WORDS FOR TOPIC #5\n",
            "['school', 'said', 'old', 'new', 'shooting', 'say', 'man', 'gun', 'year', 'police']\n",
            "\n",
            "\n"
          ],
          "name": "stdout"
        }
      ]
    },
    {
      "cell_type": "code",
      "metadata": {
        "id": "BakY5PISk0Tx"
      },
      "source": [
        "topic_results = LDA.transform(dtm)\r\n",
        "topic_results.argmax(axis=1)\r\n",
        "data['LDA'] = topic_results.argmax(axis=1)"
      ],
      "execution_count": 71,
      "outputs": []
    },
    {
      "cell_type": "code",
      "metadata": {
        "colab": {
          "base_uri": "https://localhost:8080/",
          "height": 564
        },
        "id": "hMbjEa4Yzaxd",
        "outputId": "f98859c8-2ccd-4ca0-ea28-fab8cbf26da4"
      },
      "source": [
        "data.head()"
      ],
      "execution_count": 72,
      "outputs": [
        {
          "output_type": "execute_result",
          "data": {
            "text/html": [
              "<div>\n",
              "<style scoped>\n",
              "    .dataframe tbody tr th:only-of-type {\n",
              "        vertical-align: middle;\n",
              "    }\n",
              "\n",
              "    .dataframe tbody tr th {\n",
              "        vertical-align: top;\n",
              "    }\n",
              "\n",
              "    .dataframe thead th {\n",
              "        text-align: right;\n",
              "    }\n",
              "</style>\n",
              "<table border=\"1\" class=\"dataframe\">\n",
              "  <thead>\n",
              "    <tr style=\"text-align: right;\">\n",
              "      <th></th>\n",
              "      <th>category</th>\n",
              "      <th>headline</th>\n",
              "      <th>authors</th>\n",
              "      <th>link</th>\n",
              "      <th>short_description</th>\n",
              "      <th>date</th>\n",
              "      <th>information</th>\n",
              "      <th>categoryEncoded</th>\n",
              "      <th>text</th>\n",
              "      <th>scores</th>\n",
              "      <th>compound</th>\n",
              "      <th>sentiment</th>\n",
              "      <th>NMF</th>\n",
              "      <th>LDA</th>\n",
              "    </tr>\n",
              "  </thead>\n",
              "  <tbody>\n",
              "    <tr>\n",
              "      <th>0</th>\n",
              "      <td>CRIME</td>\n",
              "      <td>There Were 2 Mass Shootings In Texas Last Week...</td>\n",
              "      <td>Melissa Jeltsen</td>\n",
              "      <td>https://www.huffingtonpost.com/entry/texas-ama...</td>\n",
              "      <td>She left her husband. He killed their children...</td>\n",
              "      <td>2018-05-26</td>\n",
              "      <td>There Were 2 Mass Shootings In Texas Last Week...</td>\n",
              "      <td>1</td>\n",
              "      <td>mass shooting texas last week tv left husband ...</td>\n",
              "      <td>{'neg': 0.273, 'neu': 0.727, 'pos': 0.0, 'comp...</td>\n",
              "      <td>-0.6705</td>\n",
              "      <td>neg</td>\n",
              "      <td>0</td>\n",
              "      <td>5</td>\n",
              "    </tr>\n",
              "    <tr>\n",
              "      <th>1</th>\n",
              "      <td>POLITICS</td>\n",
              "      <td>Trump's Crackdown On Immigrant Parents Puts Mo...</td>\n",
              "      <td>Elise Foley and Roque Planas</td>\n",
              "      <td>https://www.huffingtonpost.com/entry/immigrant...</td>\n",
              "      <td>Last month a Health and Human Services officia...</td>\n",
              "      <td>2018-05-26</td>\n",
              "      <td>Trump's Crackdown On Immigrant Parents Puts Mo...</td>\n",
              "      <td>2</td>\n",
              "      <td>trump crackdown immigrant parent put kid alrea...</td>\n",
              "      <td>{'neg': 0.109, 'neu': 0.891, 'pos': 0.0, 'comp...</td>\n",
              "      <td>-0.4019</td>\n",
              "      <td>neg</td>\n",
              "      <td>2</td>\n",
              "      <td>5</td>\n",
              "    </tr>\n",
              "    <tr>\n",
              "      <th>2</th>\n",
              "      <td>POLITICS</td>\n",
              "      <td>'Trump's Son Should Be Concerned': FBI Obtaine...</td>\n",
              "      <td>Michael Isikoff, Yahoo News</td>\n",
              "      <td>https://www.huffingtonpost.com/entry/fbi-wiret...</td>\n",
              "      <td>The wiretaps feature conversations between Ale...</td>\n",
              "      <td>2018-05-26</td>\n",
              "      <td>'Trump's Son Should Be Concerned': FBI Obtaine...</td>\n",
              "      <td>2</td>\n",
              "      <td>trump son concerned fbi obtained wiretap putin...</td>\n",
              "      <td>{'neg': 0.0, 'neu': 1.0, 'pos': 0.0, 'compound...</td>\n",
              "      <td>0.0000</td>\n",
              "      <td>pos</td>\n",
              "      <td>2</td>\n",
              "      <td>3</td>\n",
              "    </tr>\n",
              "    <tr>\n",
              "      <th>3</th>\n",
              "      <td>POLITICS</td>\n",
              "      <td>Edward Snowden: There's No One Trump Loves Mor...</td>\n",
              "      <td>Mary Papenfuss</td>\n",
              "      <td>https://www.huffingtonpost.com/entry/edward-sn...</td>\n",
              "      <td>But don't count on Robert Mueller to nail him,...</td>\n",
              "      <td>2018-05-26</td>\n",
              "      <td>Edward Snowden: There's No One Trump Loves Mor...</td>\n",
              "      <td>2</td>\n",
              "      <td>edward snowden one trump love vladimir putin c...</td>\n",
              "      <td>{'neg': 0.08, 'neu': 0.682, 'pos': 0.239, 'com...</td>\n",
              "      <td>0.5859</td>\n",
              "      <td>pos</td>\n",
              "      <td>2</td>\n",
              "      <td>3</td>\n",
              "    </tr>\n",
              "    <tr>\n",
              "      <th>4</th>\n",
              "      <td>POLITICS</td>\n",
              "      <td>Booyah: Obama Photographer Hilariously Trolls ...</td>\n",
              "      <td>Mary Papenfuss</td>\n",
              "      <td>https://www.huffingtonpost.com/entry/obama-pho...</td>\n",
              "      <td>Just a peeping minute.</td>\n",
              "      <td>2018-05-26</td>\n",
              "      <td>Booyah: Obama Photographer Hilariously Trolls ...</td>\n",
              "      <td>2</td>\n",
              "      <td>booyah obama photographer hilariously troll tr...</td>\n",
              "      <td>{'neg': 0.0, 'neu': 1.0, 'pos': 0.0, 'compound...</td>\n",
              "      <td>0.0000</td>\n",
              "      <td>pos</td>\n",
              "      <td>5</td>\n",
              "      <td>3</td>\n",
              "    </tr>\n",
              "  </tbody>\n",
              "</table>\n",
              "</div>"
            ],
            "text/plain": [
              "   category                                           headline  ... NMF LDA\n",
              "0     CRIME  There Were 2 Mass Shootings In Texas Last Week...  ...   0   5\n",
              "1  POLITICS  Trump's Crackdown On Immigrant Parents Puts Mo...  ...   2   5\n",
              "2  POLITICS  'Trump's Son Should Be Concerned': FBI Obtaine...  ...   2   3\n",
              "3  POLITICS  Edward Snowden: There's No One Trump Loves Mor...  ...   2   3\n",
              "4  POLITICS  Booyah: Obama Photographer Hilariously Trolls ...  ...   5   3\n",
              "\n",
              "[5 rows x 14 columns]"
            ]
          },
          "metadata": {
            "tags": []
          },
          "execution_count": 72
        }
      ]
    }
  ]
}